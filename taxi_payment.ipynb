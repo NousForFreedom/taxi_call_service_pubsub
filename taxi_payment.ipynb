{
  "nbformat": 4,
  "nbformat_minor": 0,
  "metadata": {
    "colab": {
      "provenance": [],
      "authorship_tag": "ABX9TyMgSwQhbxf4RfdenxVnjKuU",
      "include_colab_link": true
    },
    "kernelspec": {
      "name": "python3",
      "display_name": "Python 3"
    },
    "language_info": {
      "name": "python"
    }
  },
  "cells": [
    {
      "cell_type": "markdown",
      "metadata": {
        "id": "view-in-github",
        "colab_type": "text"
      },
      "source": [
        "<a href=\"https://colab.research.google.com/github/NousForFreedom/taxi_call_service_pubsub/blob/main/taxi_payment.ipynb\" target=\"_parent\"><img src=\"https://colab.research.google.com/assets/colab-badge.svg\" alt=\"Open In Colab\"/></a>"
      ]
    },
    {
      "cell_type": "code",
      "execution_count": null,
      "metadata": {
        "colab": {
          "base_uri": "https://localhost:8080/"
        },
        "id": "8pOAYNZnQun8",
        "outputId": "97914743-1856-4025-a6a7-d7cf7ec8417b"
      },
      "outputs": [
        {
          "output_type": "stream",
          "name": "stdout",
          "text": [
            "Collecting solace-pubsubplus\n",
            "  Downloading solace_pubsubplus-1.7.0-py36-none-manylinux_2_12_x86_64.whl (7.8 MB)\n",
            "\u001b[2K     \u001b[90m━━━━━━━━━━━━━━━━━━━━━━━━━━━━━━━━━━━━━━━━\u001b[0m \u001b[32m7.8/7.8 MB\u001b[0m \u001b[31m12.0 MB/s\u001b[0m eta \u001b[36m0:00:00\u001b[0m\n",
            "\u001b[?25hInstalling collected packages: solace-pubsubplus\n",
            "Successfully installed solace-pubsubplus-1.7.0\n"
          ]
        }
      ],
      "source": [
        "pip install solace-pubsubplus"
      ]
    },
    {
      "cell_type": "code",
      "source": [
        "import os\n",
        "import platform\n",
        "import time\n",
        "import calendar\n",
        "import math\n",
        "\n",
        "# Import Solace Python  API modules from the solace package\n",
        "from solace.messaging.messaging_service import MessagingService, ReconnectionListener, ReconnectionAttemptListener, \\\n",
        "            ServiceInterruptionListener, RetryStrategy, ServiceEvent\n",
        "from solace.messaging.resources.topic import Topic\n",
        "from solace.messaging.errors.pubsubplus_client_error import PubSubPlusClientError\n",
        "from solace.messaging.publisher.request_reply_message_publisher import RequestReplyMessagePublisher\n",
        "\n",
        "# Import Solace Python  API modules\n",
        "from solace.messaging.messaging_service import MessagingService, ReconnectionListener, ReconnectionAttemptListener, ServiceInterruptionListener, RetryStrategy, ServiceEvent\n",
        "from solace.messaging.errors.pubsubplus_client_error import PubSubPlusClientError\n",
        "from solace.messaging.publisher.direct_message_publisher import PublishFailureListener, FailedPublishEvent\n",
        "from solace.messaging.resources.topic_subscription import TopicSubscription\n",
        "from solace.messaging.receiver.message_receiver import MessageHandler\n",
        "from solace.messaging.config.solace_properties.message_properties import APPLICATION_MESSAGE_ID\n",
        "from solace.messaging.resources.topic import Topic\n",
        "from solace.messaging.receiver.inbound_message import InboundMessage\n",
        "\n"
      ],
      "metadata": {
        "id": "zRbecK-Uf8QU"
      },
      "execution_count": null,
      "outputs": []
    },
    {
      "cell_type": "code",
      "source": [
        "# Broker Config\n",
        "broker_props = {\n",
        "  \"solace.messaging.transport.host\": \"tcp://mr-connection-hcnx0u899eb.messaging.solace.cloud:55555\",\n",
        "  \"solace.messaging.service.vpn-name\": \"aiot\",\n",
        "  \"solace.messaging.authentication.scheme.basic.username\": \"Hanbinheo\",\n",
        "  \"solace.messaging.authentication.scheme.basic.password\": \"ajou\",\n",
        "}"
      ],
      "metadata": {
        "id": "NU9atgROf-b2"
      },
      "execution_count": null,
      "outputs": []
    },
    {
      "cell_type": "code",
      "source": [
        "from solace.messaging.receiver.request_reply_message_receiver import RequestMessageHandler\n",
        "\n",
        "TOPIC_PREFIX = \"solace/taxi/python\"\n",
        "\n",
        "# Inner class for handling connection events\n",
        "class ServiceEventHandler(ReconnectionListener, ReconnectionAttemptListener, ServiceInterruptionListener):\n",
        "    def on_reconnected(self, e: ServiceEvent):\n",
        "        print(\"\\non_reconnected\")\n",
        "        print(f\"Error cause: {e.get_cause()}\")\n",
        "        print(f\"Message: {e.get_message()}\")\n",
        "\n",
        "    def on_reconnecting(self, e: \"ServiceEvent\"):\n",
        "        print(\"\\non_reconnecting\")\n",
        "        print(f\"Error cause: {e.get_cause()}\")\n",
        "        print(f\"Message: {e.get_message()}\")\n",
        "\n",
        "    def on_service_interrupted(self, e: \"ServiceEvent\"):\n",
        "        print(\"\\non_service_interrupted\")\n",
        "        print(f\"Error cause: {e.get_cause()}\")\n",
        "        print(f\"Message: {e.get_message()}\")\n",
        "\n",
        "# Build and connect the messaging service\n",
        "messaging_service = MessagingService.builder().from_properties(broker_props) \\\n",
        "                                     .with_reconnection_retry_strategy(RetryStrategy.parametrized_retry(20, 3)) \\\n",
        "                                     .build()\n",
        "messaging_service.connect()\n",
        "print(f'Messaging Service connected? {messaging_service.is_connected}')\n",
        "\n",
        "# Event Handling for the messaging service\n",
        "service_handler = ServiceEventHandler()\n",
        "messaging_service.add_reconnection_listener(service_handler)\n",
        "messaging_service.add_reconnection_attempt_listener(service_handler)\n",
        "messaging_service.add_service_interruption_listener(service_handler)\n",
        "\n",
        "# Create a request-reply message receiver for receiving PaymentRequest from the platform\n",
        "request_reply_receiver = messaging_service.request_reply() \\\n",
        "                                            .create_request_reply_message_receiver_builder() \\\n",
        "                                            .build(TopicSubscription.of(TOPIC_PREFIX + '/direct/payment/>'))\n",
        "\n",
        "request_reply_receiver.start()\n",
        "\n",
        "# Handler for processing PaymentRequest from the platform\n",
        "class PaymentRequestHandler(RequestMessageHandler):\n",
        "    def on_message(self, request, replier):\n",
        "        request_payload = request.get_payload_as_string()\n",
        "        print(f'Received PaymentRequest: {request_payload}')\n",
        "\n",
        "        try:\n",
        "            details = {part.split(': ')[0]: part.split(': ')[1] for part in request_payload.split(', ')}\n",
        "            timestamp = details.get(\"timestamp\")\n",
        "            cost = details.get(\"cost\")\n",
        "            account = details.get(\"account\")\n",
        "\n",
        "            #print(f'PaymentRequest details: Timestamp {timestamp}, Cost {cost}, Account {account}')\n",
        "\n",
        "        except Exception as e:\n",
        "            print(f'Failed to parse payload: {request_payload} with error: {e}')\n",
        "\n",
        "# Register the request handler\n",
        "request_handler = PaymentRequestHandler()\n",
        "request_reply_receiver.receive_async(request_handler)\n",
        "\n",
        "try:\n",
        "    while True:\n",
        "        time.sleep(1)\n",
        "except KeyboardInterrupt:\n",
        "    print('\\nTerminating Request-Reply Receiver')\n",
        "    request_reply_receiver.terminate()\n",
        "    print('\\nDisconnecting Messaging Service')\n",
        "    messaging_service.disconnect()"
      ],
      "metadata": {
        "colab": {
          "base_uri": "https://localhost:8080/"
        },
        "id": "vCAcArHTfyd5",
        "outputId": "a059289b-fa69-47e4-a116-ed2f66043fdd"
      },
      "execution_count": null,
      "outputs": [
        {
          "metadata": {
            "tags": null
          },
          "name": "stdout",
          "output_type": "stream",
          "text": [
            "Messaging Service connected? True\n",
            "Received PaymentRequest: user_id: USER12345, ride_id: RIDE12345\n",
            "Received PaymentRequest: user_id: USER12345, ride_id: RIDE12345\n",
            "Received PaymentRequest: user_id: USER12345, ride_id: RIDE12345\n",
            "Received PaymentRequest: user_id: USER12345, ride_id: RIDE12345\n"
          ]
        }
      ]
    },
    {
      "cell_type": "code",
      "source": [
        "# Inner class for handling connection events\n",
        "class ServiceEventHandler(ReconnectionListener, ReconnectionAttemptListener, ServiceInterruptionListener):\n",
        "    def on_reconnected(self, e: ServiceEvent):\n",
        "        print(\"\\non_reconnected\")\n",
        "        print(f\"Error cause: {e.get_cause()}\")\n",
        "        print(f\"Message: {e.get_message()}\")\n",
        "\n",
        "    def on_reconnecting(self, e: \"ServiceEvent\"):\n",
        "        print(\"\\non_reconnecting\")\n",
        "        print(f\"Error cause: {e.get_cause()}\")\n",
        "        print(f\"Message: {e.get_message()}\")\n",
        "\n",
        "    def on_service_interrupted(self, e: \"ServiceEvent\"):\n",
        "        print(\"\\non_service_interrupted\")\n",
        "        print(f\"Error cause: {e.get_cause()}\")\n",
        "        print(f\"Message: {e.get_message()}\")\n",
        "\n",
        "# Build and connect the messaging service\n",
        "messaging_service = MessagingService.builder().from_properties(broker_props) \\\n",
        "                                     .with_reconnection_retry_strategy(RetryStrategy.parametrized_retry(20, 3)) \\\n",
        "                                     .build()\n",
        "messaging_service.connect()\n",
        "print(f'Messaging Service connected? {messaging_service.is_connected}')\n",
        "\n",
        "# Event Handling for the messaging service\n",
        "service_handler = ServiceEventHandler()\n",
        "messaging_service.add_reconnection_listener(service_handler)\n",
        "messaging_service.add_reconnection_attempt_listener(service_handler)\n",
        "messaging_service.add_service_interruption_listener(service_handler)\n",
        "\n",
        "# Create a direct message publisher for sending PaymentRequest to the user\n",
        "direct_publisher = messaging_service.create_direct_message_publisher_builder().build()\n",
        "print(f'Direct Publisher ready? {direct_publisher.is_ready()}')\n",
        "\n",
        "# Define the topic to send PaymentRequest message to the user\n",
        "user_payment_topic = Topic.of(TOPIC_PREFIX + f'/direct/payment/request/{user_id}')\n",
        "\n",
        "# Build the message payload\n",
        "timestamp = str(calendar.timegm(time.gmtime()))\n",
        "cost = \"100\"  # Example cost\n",
        "account = \"1234567890\"  # Example account\n",
        "\n",
        "payload = f\"timestamp: {timestamp}, cost: {cost}, account: {account}\"\n",
        "\n",
        "try:\n",
        "    outbound_msg = messaging_service.message_builder() \\\n",
        "        .with_application_message_id(f'PaymentRequest_{USER_ID}_{timestamp}') \\\n",
        "        .build(payload)\n",
        "\n",
        "    direct_publisher.publish(destination=user_payment_topic, message=outbound_msg)\n",
        "    print(f'Sent PaymentRequest message to topic: {user_payment_topic}')\n",
        "except Exception as e:\n",
        "    print(f'Failed to send PaymentRequest message: {e}')\n",
        "\n",
        "finally:\n",
        "    print('\\nDisconnecting Messaging Service')\n",
        "    messaging_service.disconnect()"
      ],
      "metadata": {
        "id": "fWxRzS0Igh9P"
      },
      "execution_count": null,
      "outputs": []
    }
  ]
}